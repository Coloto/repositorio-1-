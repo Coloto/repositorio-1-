{
 "cells": [
  {
   "cell_type": "code",
   "execution_count": 1,
   "id": "7889dcda",
   "metadata": {},
   "outputs": [
    {
     "data": {
      "text/html": [
       "<div>\n",
       "<style scoped>\n",
       "    .dataframe tbody tr th:only-of-type {\n",
       "        vertical-align: middle;\n",
       "    }\n",
       "\n",
       "    .dataframe tbody tr th {\n",
       "        vertical-align: top;\n",
       "    }\n",
       "\n",
       "    .dataframe thead th {\n",
       "        text-align: right;\n",
       "    }\n",
       "</style>\n",
       "<table border=\"1\" class=\"dataframe\">\n",
       "  <thead>\n",
       "    <tr style=\"text-align: right;\">\n",
       "      <th></th>\n",
       "      <th>ID_EQUIPO</th>\n",
       "      <th>ID_TIPO_EQUIPO</th>\n",
       "      <th>UBICACION</th>\n",
       "      <th>FECHA_INSTALACION</th>\n",
       "      <th>FECHA_CONSULTA</th>\n",
       "    </tr>\n",
       "  </thead>\n",
       "  <tbody>\n",
       "    <tr>\n",
       "      <th>0</th>\n",
       "      <td>2020018163</td>\n",
       "      <td>RMDT</td>\n",
       "      <td>362</td>\n",
       "      <td>14/07/22</td>\n",
       "      <td>08/11/22</td>\n",
       "    </tr>\n",
       "    <tr>\n",
       "      <th>1</th>\n",
       "      <td>2020018185</td>\n",
       "      <td>RMDT</td>\n",
       "      <td>351</td>\n",
       "      <td>20/06/22</td>\n",
       "      <td>08/11/22</td>\n",
       "    </tr>\n",
       "    <tr>\n",
       "      <th>2</th>\n",
       "      <td>2020018194</td>\n",
       "      <td>RMDT</td>\n",
       "      <td>356</td>\n",
       "      <td>20/06/22</td>\n",
       "      <td>08/11/22</td>\n",
       "    </tr>\n",
       "    <tr>\n",
       "      <th>3</th>\n",
       "      <td>2020018197</td>\n",
       "      <td>RMDT</td>\n",
       "      <td>326</td>\n",
       "      <td>20/06/22</td>\n",
       "      <td>08/11/22</td>\n",
       "    </tr>\n",
       "    <tr>\n",
       "      <th>4</th>\n",
       "      <td>2020018217</td>\n",
       "      <td>RMDT</td>\n",
       "      <td>340</td>\n",
       "      <td>20/06/22</td>\n",
       "      <td>08/11/22</td>\n",
       "    </tr>\n",
       "  </tbody>\n",
       "</table>\n",
       "</div>"
      ],
      "text/plain": [
       "    ID_EQUIPO ID_TIPO_EQUIPO UBICACION FECHA_INSTALACION FECHA_CONSULTA\n",
       "0  2020018163           RMDT       362          14/07/22       08/11/22\n",
       "1  2020018185           RMDT       351          20/06/22       08/11/22\n",
       "2  2020018194           RMDT       356          20/06/22       08/11/22\n",
       "3  2020018197           RMDT       326          20/06/22       08/11/22\n",
       "4  2020018217           RMDT       340          20/06/22       08/11/22"
      ]
     },
     "execution_count": 1,
     "metadata": {},
     "output_type": "execute_result"
    }
   ],
   "source": [
    "import pandas as pd\n",
    "titanic = pd.read_csv('941.csv')\n",
    "titanic.head()"
   ]
  },
  {
   "cell_type": "code",
   "execution_count": 2,
   "id": "053d3906",
   "metadata": {
    "scrolled": false
   },
   "outputs": [
    {
     "data": {
      "text/plain": [
       "[<matplotlib.lines.Line2D at 0x209c39c9850>]"
      ]
     },
     "execution_count": 2,
     "metadata": {},
     "output_type": "execute_result"
    },
    {
     "data": {
      "image/png": "[encoded data removed]",
      "text/plain": [
       "<Figure size 640x480 with 1 Axes>"
      ]
     },
     "metadata": {},
     "output_type": "display_data"
    }
   ],
   "source": [
    "import matplotlib as mpl\n",
    "import matplotlib.pyplot as plt\n",
    "\n",
    "fig,ax=plt.subplots()\n",
    "ax.plot ([10,30,50,80],[25,15,54,80])"
   ]
  },
  {
   "cell_type": "code",
   "execution_count": 6,
   "id": "e4e25ac3",
   "metadata": {},
   "outputs": [
    {
     "name": "stdout",
     "output_type": "stream",
     "text": [
      "Dime tu frase: a b c d e f g h i j k l m n ñ o p q r s t u v w x y z\n"
     ]
    },
    {
     "data": {
      "text/plain": [
       "['A',\n",
       " 'B',\n",
       " 'C',\n",
       " 'D',\n",
       " 'E',\n",
       " 'F',\n",
       " 'G',\n",
       " 'H',\n",
       " 'I',\n",
       " 'J',\n",
       " 'K',\n",
       " 'L',\n",
       " 'M',\n",
       " 'N',\n",
       " 'O',\n",
       " 'P',\n",
       " 'Q',\n",
       " 'R',\n",
       " 'S',\n",
       " 'T',\n",
       " 'U',\n",
       " 'V',\n",
       " 'W',\n",
       " 'X',\n",
       " 'Y',\n",
       " 'Z',\n",
       " 'Ñ']"
      ]
     },
     "execution_count": 6,
     "metadata": {},
     "output_type": "execute_result"
    }
   ],
   "source": [
    "frase=input('Dime tu frase: ')\n",
    "sorted(frase.upper().split(' '))"
   ]
  }
 ],
 "metadata": {
  "kernelspec": {
   "display_name": "Python 3 (ipykernel)",
   "language": "python",
   "name": "python3"
  },
  "language_info": {
   "codemirror_mode": {
    "name": "ipython",
    "version": 3
   },
   "file_extension": ".py",
   "mimetype": "text/x-python",
   "name": "python",
   "nbconvert_exporter": "python",
   "pygments_lexer": "ipython3",
   "version": "3.9.13"
  }
 },
 "nbformat": 4,
 "nbformat_minor": 5
}
